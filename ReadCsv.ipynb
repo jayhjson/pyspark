{
 "cells": [
  {
   "cell_type": "code",
   "execution_count": null,
   "id": "dc04ebab",
   "metadata": {},
   "outputs": [],
   "source": [
    "# 2023-01-23\n",
    "# Read CSV Files(한번에 여러개도 å가능) , header type 지정 "
   ]
  },
  {
   "cell_type": "code",
   "execution_count": 1,
   "id": "32e23612",
   "metadata": {},
   "outputs": [
    {
     "name": "stdout",
     "output_type": "stream",
     "text": [
      "23/01/23 15:32:24 WARN Utils: Your hostname, sonhyejuui-MacBookAir.local resolves to a loopback address: 127.0.0.1; using 172.30.1.27 instead (on interface en0)\n",
      "23/01/23 15:32:24 WARN Utils: Set SPARK_LOCAL_IP if you need to bind to another address\n"
     ]
    },
    {
     "name": "stderr",
     "output_type": "stream",
     "text": [
      "Setting default log level to \"WARN\".\n",
      "To adjust logging level use sc.setLogLevel(newLevel). For SparkR, use setLogLevel(newLevel).\n"
     ]
    },
    {
     "name": "stdout",
     "output_type": "stream",
     "text": [
      "23/01/23 15:32:25 WARN NativeCodeLoader: Unable to load native-hadoop library for your platform... using builtin-java classes where applicable\n",
      "23/01/23 15:32:26 WARN Utils: Service 'SparkUI' could not bind on port 4040. Attempting port 4041.\n",
      "23/01/23 15:32:26 WARN Utils: Service 'SparkUI' could not bind on port 4041. Attempting port 4042.\n"
     ]
    }
   ],
   "source": [
    "from pyspark.sql import SparkSession\n",
    "spark = SparkSession.builder.getOrCreate()"
   ]
  },
  {
   "cell_type": "code",
   "execution_count": 2,
   "id": "af2002f0",
   "metadata": {},
   "outputs": [
    {
     "name": "stdout",
     "output_type": "stream",
     "text": [
      "/Users/sonhyeju/Documents/github/pyspark\r\n"
     ]
    }
   ],
   "source": [
    "!pwd"
   ]
  },
  {
   "cell_type": "code",
   "execution_count": 4,
   "id": "865f1f67",
   "metadata": {},
   "outputs": [
    {
     "name": "stderr",
     "output_type": "stream",
     "text": [
      "                                                                                \r"
     ]
    }
   ],
   "source": [
    "df = spark.read.option(\"sep\", \"\\t\").csv(path=[\"/Users/sonhyeju/Documents/github/data/test.tsv\"], header = True)"
   ]
  },
  {
   "cell_type": "code",
   "execution_count": null,
   "id": "fb71e2df",
   "metadata": {},
   "outputs": [],
   "source": [
    "df = spark.read.option(\"sep\", \"\\t\").csv(path=[\"data/test.tsv\",\"data/train.tsv\"], header = True)\n",
    "# df = spark.read.csv(path ='', header = True )"
   ]
  },
  {
   "cell_type": "code",
   "execution_count": null,
   "id": "19e10333",
   "metadata": {},
   "outputs": [],
   "source": [
    "df = spark.read.option(\"sep\", \"\\t\").csv(path=\"data\", header = True) \n",
    "#råead all the csv files in a floder "
   ]
  },
  {
   "cell_type": "code",
   "execution_count": null,
   "id": "eac1e554",
   "metadata": {},
   "outputs": [],
   "source": [
    "from pyspark.sql.types import *\n",
    "help(StructType)"
   ]
  },
  {
   "cell_type": "code",
   "execution_count": null,
   "id": "41976bb7",
   "metadata": {},
   "outputs": [],
   "source": [
    "schema = StructType().add(field='test_id',data_type=IntegerType())\\\n",
    "                     .add(field='name',data_type=StringType())\\\n",
    "                     .add(field='item_condition',data_type=IntegerType())\\\n",
    "                     .add(field='category_name',data_type=StringType())\\\n",
    "                     .add(field='brand_name',data_type=StringType())\\\n",
    "                     .add(field='shipping',data_type=IntegerType())\\\n",
    "                     .add(field='item_description',data_type=StringType())\n",
    "df = spark.read.option(\"sep\", \"\\t\").csv(path=\"data\", schema= schema, header = True) \n",
    "#råead all the csv files in a floder "
   ]
  },
  {
   "cell_type": "code",
   "execution_count": null,
   "id": "9828ed86",
   "metadata": {},
   "outputs": [],
   "source": [
    "display(df)\n",
    "df.show()\n",
    "df.printSchema()"
   ]
  }
 ],
 "metadata": {
  "kernelspec": {
   "display_name": "Python 3 (ipykernel)",
   "language": "python",
   "name": "python3"
  },
  "language_info": {
   "codemirror_mode": {
    "name": "ipython",
    "version": 3
   },
   "file_extension": ".py",
   "mimetype": "text/x-python",
   "name": "python",
   "nbconvert_exporter": "python",
   "pygments_lexer": "ipython3",
   "version": "3.9.12"
  }
 },
 "nbformat": 4,
 "nbformat_minor": 5
}
